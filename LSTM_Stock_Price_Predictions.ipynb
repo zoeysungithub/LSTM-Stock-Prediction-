{
  "cells": [
    {
      "cell_type": "markdown",
      "metadata": {
        "id": "PzgcWZL9_S_U"
      },
      "source": [
        "We'll be using Long Short Term Memory, or LSTM, machine learning model to predict the stock price of a company of your choice."
      ]
    },
    {
      "cell_type": "code",
      "execution_count": null,
      "metadata": {
        "colab": {
          "background_save": true
        },
        "id": "O1axred6wNpR"
      },
      "outputs": [],
      "source": [
        "# import necessary packages\n",
        "import math\n",
        "import yfinance\n",
        "import numpy as np\n",
        "import pandas as pd\n",
        "from sklearn.preprocessing import MinMaxScaler\n",
        "# import tensorflow\n",
        "# import Pytorch\n",
        "from keras.models import Sequential # this is for ML models that process data sequentially, and not \"jumping around\" or \"going back and forth\" and such\n",
        "from keras.layers import LSTM, Dense, Dropout, BatchNormalization\n",
        "import matplotlib.pyplot as plt\n",
        "\n",
        "# Setup for nicer visualization\n",
        "plt.style.use('fivethirtyeight')"
      ]
    },
    {
      "cell_type": "markdown",
      "metadata": {
        "id": "TyCNsd5j_Lt3"
      },
      "source": [
        "# NSDC Spring 2024 Project"
      ]
    },
    {
      "cell_type": "markdown",
      "metadata": {
        "id": "6gGn83wv_qT9"
      },
      "source": [
        "In the above, we imported packages we will be using throughout this project and modified the visualization a little bit.\n",
        "\n",
        "- math is a package used to do ... math.\n",
        "- yfinance is a package to get financial data from yahoo finance. This is the package we will use to get stock market prices.\n",
        "- numpy, one of the most well known Python package, is used for efficient manipulation of data. numpy is adopted for many other packages, like matplotlib for data visualization, and pandas for processing tabular data.\n",
        "- sklearn.preprocessing has various tools allowing us to transform our data, e.g. MinMaxScalar and StandardScaler. It's part of the package sklearn, which stands for \"SciPy Toolkit learn\" where \"SciPy\" is for \"Scientific Python\" or its like.\n",
        "- keras is a package that is popular for machine learning. It's also integrated as part of the tensorflow package, one of the most popular machine learning machine learning framework along with PyTorch, but we will use keras as a standalone here.\n",
        "- matplotlib is a package for data visualization."
      ]
    },
    {
      "cell_type": "code",
      "execution_count": null,
      "metadata": {
        "colab": {
          "base_uri": "https://localhost:8080/",
          "height": 455
        },
        "id": "ve-oq3oYwjHJ",
        "outputId": "64bfd5db-3851-47c8-9c76-ecc211d4958c"
      },
      "outputs": [
        {
          "data": {
            "application/vnd.google.colaboratory.intrinsic+json": {
              "summary": "{\n  \"name\": \"df\",\n  \"rows\": 3106,\n  \"fields\": [\n    {\n      \"column\": \"Date\",\n      \"properties\": {\n        \"dtype\": \"date\",\n        \"min\": \"2012-01-03 00:00:00\",\n        \"max\": \"2024-05-07 00:00:00\",\n        \"num_unique_values\": 3106,\n        \"samples\": [\n          \"2012-08-09 00:00:00\",\n          \"2013-03-14 00:00:00\",\n          \"2022-08-03 00:00:00\"\n        ],\n        \"semantic_type\": \"\",\n        \"description\": \"\"\n      }\n    },\n    {\n      \"column\": \"Open\",\n      \"properties\": {\n        \"dtype\": \"number\",\n        \"std\": 55.732602986586805,\n        \"min\": 8.690500259399414,\n        \"max\": 188.9199981689453,\n        \"num_unique_values\": 2988,\n        \"samples\": [\n          100.0,\n          15.577500343322754,\n          130.38999938964844\n        ],\n        \"semantic_type\": \"\",\n        \"description\": \"\"\n      }\n    },\n    {\n      \"column\": \"High\",\n      \"properties\": {\n        \"dtype\": \"number\",\n        \"std\": 56.39495111217927,\n        \"min\": 8.912500381469727,\n        \"max\": 189.94000244140625,\n        \"num_unique_values\": 3020,\n        \"samples\": [\n          49.92499923706055,\n          79.17949676513672,\n          11.545999526977539\n        ],\n        \"semantic_type\": \"\",\n        \"description\": \"\"\n      }\n    },\n    {\n      \"column\": \"Low\",\n      \"properties\": {\n        \"dtype\": \"number\",\n        \"std\": 55.01321850870359,\n        \"min\": 8.600000381469727,\n        \"max\": 187.30999755859375,\n        \"num_unique_values\": 3026,\n        \"samples\": [\n          37.86249923706055,\n          13.46049976348877,\n          164.35699462890625\n        ],\n        \"semantic_type\": \"\",\n        \"description\": \"\"\n      }\n    },\n    {\n      \"column\": \"Close\",\n      \"properties\": {\n        \"dtype\": \"number\",\n        \"std\": 55.70024780049827,\n        \"min\": 8.796500205993652,\n        \"max\": 189.0500030517578,\n        \"num_unique_values\": 3058,\n        \"samples\": [\n          81.3115005493164,\n          11.145999908447266,\n          48.24549865722656\n        ],\n        \"semantic_type\": \"\",\n        \"description\": \"\"\n      }\n    },\n    {\n      \"column\": \"Adj Close\",\n      \"properties\": {\n        \"dtype\": \"number\",\n        \"std\": 55.70024780049827,\n        \"min\": 8.796500205993652,\n        \"max\": 189.0500030517578,\n        \"num_unique_values\": 3058,\n        \"samples\": [\n          81.3115005493164,\n          11.145999908447266,\n          48.24549865722656\n        ],\n        \"semantic_type\": \"\",\n        \"description\": \"\"\n      }\n    },\n    {\n      \"column\": \"Volume\",\n      \"properties\": {\n        \"dtype\": \"number\",\n        \"std\": 41926924,\n        \"min\": 17626000,\n        \"max\": 477122000,\n        \"num_unique_values\": 3040,\n        \"samples\": [\n          104534000,\n          38773700,\n          110302000\n        ],\n        \"semantic_type\": \"\",\n        \"description\": \"\"\n      }\n    }\n  ]\n}",
              "type": "dataframe",
              "variable_name": "df"
            },
            "text/html": [
              "\n",
              "  <div id=\"df-45609649-ef53-4a5f-9b81-2540585f5d67\" class=\"colab-df-container\">\n",
              "    <div>\n",
              "<style scoped>\n",
              "    .dataframe tbody tr th:only-of-type {\n",
              "        vertical-align: middle;\n",
              "    }\n",
              "\n",
              "    .dataframe tbody tr th {\n",
              "        vertical-align: top;\n",
              "    }\n",
              "\n",
              "    .dataframe thead th {\n",
              "        text-align: right;\n",
              "    }\n",
              "</style>\n",
              "<table border=\"1\" class=\"dataframe\">\n",
              "  <thead>\n",
              "    <tr style=\"text-align: right;\">\n",
              "      <th></th>\n",
              "      <th>Open</th>\n",
              "      <th>High</th>\n",
              "      <th>Low</th>\n",
              "      <th>Close</th>\n",
              "      <th>Adj Close</th>\n",
              "      <th>Volume</th>\n",
              "    </tr>\n",
              "    <tr>\n",
              "      <th>Date</th>\n",
              "      <th></th>\n",
              "      <th></th>\n",
              "      <th></th>\n",
              "      <th></th>\n",
              "      <th></th>\n",
              "      <th></th>\n",
              "    </tr>\n",
              "  </thead>\n",
              "  <tbody>\n",
              "    <tr>\n",
              "      <th>2012-01-03</th>\n",
              "      <td>8.794500</td>\n",
              "      <td>8.974000</td>\n",
              "      <td>8.777500</td>\n",
              "      <td>8.951500</td>\n",
              "      <td>8.951500</td>\n",
              "      <td>102216000</td>\n",
              "    </tr>\n",
              "    <tr>\n",
              "      <th>2012-01-04</th>\n",
              "      <td>8.960500</td>\n",
              "      <td>9.025000</td>\n",
              "      <td>8.803500</td>\n",
              "      <td>8.875500</td>\n",
              "      <td>8.875500</td>\n",
              "      <td>84104000</td>\n",
              "    </tr>\n",
              "    <tr>\n",
              "      <th>2012-01-05</th>\n",
              "      <td>8.797000</td>\n",
              "      <td>8.912500</td>\n",
              "      <td>8.702500</td>\n",
              "      <td>8.880500</td>\n",
              "      <td>8.880500</td>\n",
              "      <td>76182000</td>\n",
              "    </tr>\n",
              "    <tr>\n",
              "      <th>2012-01-06</th>\n",
              "      <td>8.903500</td>\n",
              "      <td>9.232500</td>\n",
              "      <td>8.875000</td>\n",
              "      <td>9.130500</td>\n",
              "      <td>9.130500</td>\n",
              "      <td>140168000</td>\n",
              "    </tr>\n",
              "    <tr>\n",
              "      <th>2012-01-09</th>\n",
              "      <td>9.138000</td>\n",
              "      <td>9.218500</td>\n",
              "      <td>8.850000</td>\n",
              "      <td>8.928000</td>\n",
              "      <td>8.928000</td>\n",
              "      <td>101138000</td>\n",
              "    </tr>\n",
              "    <tr>\n",
              "      <th>...</th>\n",
              "      <td>...</td>\n",
              "      <td>...</td>\n",
              "      <td>...</td>\n",
              "      <td>...</td>\n",
              "      <td>...</td>\n",
              "      <td>...</td>\n",
              "    </tr>\n",
              "    <tr>\n",
              "      <th>2024-05-01</th>\n",
              "      <td>181.639999</td>\n",
              "      <td>185.149994</td>\n",
              "      <td>176.559998</td>\n",
              "      <td>179.000000</td>\n",
              "      <td>179.000000</td>\n",
              "      <td>94645100</td>\n",
              "    </tr>\n",
              "    <tr>\n",
              "      <th>2024-05-02</th>\n",
              "      <td>180.850006</td>\n",
              "      <td>185.100006</td>\n",
              "      <td>179.910004</td>\n",
              "      <td>184.720001</td>\n",
              "      <td>184.720001</td>\n",
              "      <td>54303500</td>\n",
              "    </tr>\n",
              "    <tr>\n",
              "      <th>2024-05-03</th>\n",
              "      <td>186.990005</td>\n",
              "      <td>187.869995</td>\n",
              "      <td>185.419998</td>\n",
              "      <td>186.210007</td>\n",
              "      <td>186.210007</td>\n",
              "      <td>39172000</td>\n",
              "    </tr>\n",
              "    <tr>\n",
              "      <th>2024-05-06</th>\n",
              "      <td>186.279999</td>\n",
              "      <td>188.750000</td>\n",
              "      <td>184.800003</td>\n",
              "      <td>188.699997</td>\n",
              "      <td>188.699997</td>\n",
              "      <td>34725300</td>\n",
              "    </tr>\n",
              "    <tr>\n",
              "      <th>2024-05-07</th>\n",
              "      <td>188.919998</td>\n",
              "      <td>189.940002</td>\n",
              "      <td>187.309998</td>\n",
              "      <td>188.759995</td>\n",
              "      <td>188.759995</td>\n",
              "      <td>34048900</td>\n",
              "    </tr>\n",
              "  </tbody>\n",
              "</table>\n",
              "<p>3106 rows × 6 columns</p>\n",
              "</div>\n",
              "    <div class=\"colab-df-buttons\">\n",
              "\n",
              "  <div class=\"colab-df-container\">\n",
              "    <button class=\"colab-df-convert\" onclick=\"convertToInteractive('df-45609649-ef53-4a5f-9b81-2540585f5d67')\"\n",
              "            title=\"Convert this dataframe to an interactive table.\"\n",
              "            style=\"display:none;\">\n",
              "\n",
              "  <svg xmlns=\"http://www.w3.org/2000/svg\" height=\"24px\" viewBox=\"0 -960 960 960\">\n",
              "    <path d=\"M120-120v-720h720v720H120Zm60-500h600v-160H180v160Zm220 220h160v-160H400v160Zm0 220h160v-160H400v160ZM180-400h160v-160H180v160Zm440 0h160v-160H620v160ZM180-180h160v-160H180v160Zm440 0h160v-160H620v160Z\"/>\n",
              "  </svg>\n",
              "    </button>\n",
              "\n",
              "  <style>\n",
              "    .colab-df-container {\n",
              "      display:flex;\n",
              "      gap: 12px;\n",
              "    }\n",
              "\n",
              "    .colab-df-convert {\n",
              "      background-color: #E8F0FE;\n",
              "      border: none;\n",
              "      border-radius: 50%;\n",
              "      cursor: pointer;\n",
              "      display: none;\n",
              "      fill: #1967D2;\n",
              "      height: 32px;\n",
              "      padding: 0 0 0 0;\n",
              "      width: 32px;\n",
              "    }\n",
              "\n",
              "    .colab-df-convert:hover {\n",
              "      background-color: #E2EBFA;\n",
              "      box-shadow: 0px 1px 2px rgba(60, 64, 67, 0.3), 0px 1px 3px 1px rgba(60, 64, 67, 0.15);\n",
              "      fill: #174EA6;\n",
              "    }\n",
              "\n",
              "    .colab-df-buttons div {\n",
              "      margin-bottom: 4px;\n",
              "    }\n",
              "\n",
              "    [theme=dark] .colab-df-convert {\n",
              "      background-color: #3B4455;\n",
              "      fill: #D2E3FC;\n",
              "    }\n",
              "\n",
              "    [theme=dark] .colab-df-convert:hover {\n",
              "      background-color: #434B5C;\n",
              "      box-shadow: 0px 1px 3px 1px rgba(0, 0, 0, 0.15);\n",
              "      filter: drop-shadow(0px 1px 2px rgba(0, 0, 0, 0.3));\n",
              "      fill: #FFFFFF;\n",
              "    }\n",
              "  </style>\n",
              "\n",
              "    <script>\n",
              "      const buttonEl =\n",
              "        document.querySelector('#df-45609649-ef53-4a5f-9b81-2540585f5d67 button.colab-df-convert');\n",
              "      buttonEl.style.display =\n",
              "        google.colab.kernel.accessAllowed ? 'block' : 'none';\n",
              "\n",
              "      async function convertToInteractive(key) {\n",
              "        const element = document.querySelector('#df-45609649-ef53-4a5f-9b81-2540585f5d67');\n",
              "        const dataTable =\n",
              "          await google.colab.kernel.invokeFunction('convertToInteractive',\n",
              "                                                    [key], {});\n",
              "        if (!dataTable) return;\n",
              "\n",
              "        const docLinkHtml = 'Like what you see? Visit the ' +\n",
              "          '<a target=\"_blank\" href=https://colab.research.google.com/notebooks/data_table.ipynb>data table notebook</a>'\n",
              "          + ' to learn more about interactive tables.';\n",
              "        element.innerHTML = '';\n",
              "        dataTable['output_type'] = 'display_data';\n",
              "        await google.colab.output.renderOutput(dataTable, element);\n",
              "        const docLink = document.createElement('div');\n",
              "        docLink.innerHTML = docLinkHtml;\n",
              "        element.appendChild(docLink);\n",
              "      }\n",
              "    </script>\n",
              "  </div>\n",
              "\n",
              "\n",
              "<div id=\"df-f8c444cf-1679-4680-a0ae-913b4be275fd\">\n",
              "  <button class=\"colab-df-quickchart\" onclick=\"quickchart('df-f8c444cf-1679-4680-a0ae-913b4be275fd')\"\n",
              "            title=\"Suggest charts\"\n",
              "            style=\"display:none;\">\n",
              "\n",
              "<svg xmlns=\"http://www.w3.org/2000/svg\" height=\"24px\"viewBox=\"0 0 24 24\"\n",
              "     width=\"24px\">\n",
              "    <g>\n",
              "        <path d=\"M19 3H5c-1.1 0-2 .9-2 2v14c0 1.1.9 2 2 2h14c1.1 0 2-.9 2-2V5c0-1.1-.9-2-2-2zM9 17H7v-7h2v7zm4 0h-2V7h2v10zm4 0h-2v-4h2v4z\"/>\n",
              "    </g>\n",
              "</svg>\n",
              "  </button>\n",
              "\n",
              "<style>\n",
              "  .colab-df-quickchart {\n",
              "      --bg-color: #E8F0FE;\n",
              "      --fill-color: #1967D2;\n",
              "      --hover-bg-color: #E2EBFA;\n",
              "      --hover-fill-color: #174EA6;\n",
              "      --disabled-fill-color: #AAA;\n",
              "      --disabled-bg-color: #DDD;\n",
              "  }\n",
              "\n",
              "  [theme=dark] .colab-df-quickchart {\n",
              "      --bg-color: #3B4455;\n",
              "      --fill-color: #D2E3FC;\n",
              "      --hover-bg-color: #434B5C;\n",
              "      --hover-fill-color: #FFFFFF;\n",
              "      --disabled-bg-color: #3B4455;\n",
              "      --disabled-fill-color: #666;\n",
              "  }\n",
              "\n",
              "  .colab-df-quickchart {\n",
              "    background-color: var(--bg-color);\n",
              "    border: none;\n",
              "    border-radius: 50%;\n",
              "    cursor: pointer;\n",
              "    display: none;\n",
              "    fill: var(--fill-color);\n",
              "    height: 32px;\n",
              "    padding: 0;\n",
              "    width: 32px;\n",
              "  }\n",
              "\n",
              "  .colab-df-quickchart:hover {\n",
              "    background-color: var(--hover-bg-color);\n",
              "    box-shadow: 0 1px 2px rgba(60, 64, 67, 0.3), 0 1px 3px 1px rgba(60, 64, 67, 0.15);\n",
              "    fill: var(--button-hover-fill-color);\n",
              "  }\n",
              "\n",
              "  .colab-df-quickchart-complete:disabled,\n",
              "  .colab-df-quickchart-complete:disabled:hover {\n",
              "    background-color: var(--disabled-bg-color);\n",
              "    fill: var(--disabled-fill-color);\n",
              "    box-shadow: none;\n",
              "  }\n",
              "\n",
              "  .colab-df-spinner {\n",
              "    border: 2px solid var(--fill-color);\n",
              "    border-color: transparent;\n",
              "    border-bottom-color: var(--fill-color);\n",
              "    animation:\n",
              "      spin 1s steps(1) infinite;\n",
              "  }\n",
              "\n",
              "  @keyframes spin {\n",
              "    0% {\n",
              "      border-color: transparent;\n",
              "      border-bottom-color: var(--fill-color);\n",
              "      border-left-color: var(--fill-color);\n",
              "    }\n",
              "    20% {\n",
              "      border-color: transparent;\n",
              "      border-left-color: var(--fill-color);\n",
              "      border-top-color: var(--fill-color);\n",
              "    }\n",
              "    30% {\n",
              "      border-color: transparent;\n",
              "      border-left-color: var(--fill-color);\n",
              "      border-top-color: var(--fill-color);\n",
              "      border-right-color: var(--fill-color);\n",
              "    }\n",
              "    40% {\n",
              "      border-color: transparent;\n",
              "      border-right-color: var(--fill-color);\n",
              "      border-top-color: var(--fill-color);\n",
              "    }\n",
              "    60% {\n",
              "      border-color: transparent;\n",
              "      border-right-color: var(--fill-color);\n",
              "    }\n",
              "    80% {\n",
              "      border-color: transparent;\n",
              "      border-right-color: var(--fill-color);\n",
              "      border-bottom-color: var(--fill-color);\n",
              "    }\n",
              "    90% {\n",
              "      border-color: transparent;\n",
              "      border-bottom-color: var(--fill-color);\n",
              "    }\n",
              "  }\n",
              "</style>\n",
              "\n",
              "  <script>\n",
              "    async function quickchart(key) {\n",
              "      const quickchartButtonEl =\n",
              "        document.querySelector('#' + key + ' button');\n",
              "      quickchartButtonEl.disabled = true;  // To prevent multiple clicks.\n",
              "      quickchartButtonEl.classList.add('colab-df-spinner');\n",
              "      try {\n",
              "        const charts = await google.colab.kernel.invokeFunction(\n",
              "            'suggestCharts', [key], {});\n",
              "      } catch (error) {\n",
              "        console.error('Error during call to suggestCharts:', error);\n",
              "      }\n",
              "      quickchartButtonEl.classList.remove('colab-df-spinner');\n",
              "      quickchartButtonEl.classList.add('colab-df-quickchart-complete');\n",
              "    }\n",
              "    (() => {\n",
              "      let quickchartButtonEl =\n",
              "        document.querySelector('#df-f8c444cf-1679-4680-a0ae-913b4be275fd button');\n",
              "      quickchartButtonEl.style.display =\n",
              "        google.colab.kernel.accessAllowed ? 'block' : 'none';\n",
              "    })();\n",
              "  </script>\n",
              "</div>\n",
              "\n",
              "  <div id=\"id_efe64038-e4c8-4bea-a3f9-8d4d5ae97dc0\">\n",
              "    <style>\n",
              "      .colab-df-generate {\n",
              "        background-color: #E8F0FE;\n",
              "        border: none;\n",
              "        border-radius: 50%;\n",
              "        cursor: pointer;\n",
              "        display: none;\n",
              "        fill: #1967D2;\n",
              "        height: 32px;\n",
              "        padding: 0 0 0 0;\n",
              "        width: 32px;\n",
              "      }\n",
              "\n",
              "      .colab-df-generate:hover {\n",
              "        background-color: #E2EBFA;\n",
              "        box-shadow: 0px 1px 2px rgba(60, 64, 67, 0.3), 0px 1px 3px 1px rgba(60, 64, 67, 0.15);\n",
              "        fill: #174EA6;\n",
              "      }\n",
              "\n",
              "      [theme=dark] .colab-df-generate {\n",
              "        background-color: #3B4455;\n",
              "        fill: #D2E3FC;\n",
              "      }\n",
              "\n",
              "      [theme=dark] .colab-df-generate:hover {\n",
              "        background-color: #434B5C;\n",
              "        box-shadow: 0px 1px 3px 1px rgba(0, 0, 0, 0.15);\n",
              "        filter: drop-shadow(0px 1px 2px rgba(0, 0, 0, 0.3));\n",
              "        fill: #FFFFFF;\n",
              "      }\n",
              "    </style>\n",
              "    <button class=\"colab-df-generate\" onclick=\"generateWithVariable('df')\"\n",
              "            title=\"Generate code using this dataframe.\"\n",
              "            style=\"display:none;\">\n",
              "\n",
              "  <svg xmlns=\"http://www.w3.org/2000/svg\" height=\"24px\"viewBox=\"0 0 24 24\"\n",
              "       width=\"24px\">\n",
              "    <path d=\"M7,19H8.4L18.45,9,17,7.55,7,17.6ZM5,21V16.75L18.45,3.32a2,2,0,0,1,2.83,0l1.4,1.43a1.91,1.91,0,0,1,.58,1.4,1.91,1.91,0,0,1-.58,1.4L9.25,21ZM18.45,9,17,7.55Zm-12,3A5.31,5.31,0,0,0,4.9,8.1,5.31,5.31,0,0,0,1,6.5,5.31,5.31,0,0,0,4.9,4.9,5.31,5.31,0,0,0,6.5,1,5.31,5.31,0,0,0,8.1,4.9,5.31,5.31,0,0,0,12,6.5,5.46,5.46,0,0,0,6.5,12Z\"/>\n",
              "  </svg>\n",
              "    </button>\n",
              "    <script>\n",
              "      (() => {\n",
              "      const buttonEl =\n",
              "        document.querySelector('#id_efe64038-e4c8-4bea-a3f9-8d4d5ae97dc0 button.colab-df-generate');\n",
              "      buttonEl.style.display =\n",
              "        google.colab.kernel.accessAllowed ? 'block' : 'none';\n",
              "\n",
              "      buttonEl.onclick = () => {\n",
              "        google.colab.notebook.generateWithVariable('df');\n",
              "      }\n",
              "      })();\n",
              "    </script>\n",
              "  </div>\n",
              "\n",
              "    </div>\n",
              "  </div>\n"
            ],
            "text/plain": [
              "                  Open        High         Low       Close   Adj Close  \\\n",
              "Date                                                                     \n",
              "2012-01-03    8.794500    8.974000    8.777500    8.951500    8.951500   \n",
              "2012-01-04    8.960500    9.025000    8.803500    8.875500    8.875500   \n",
              "2012-01-05    8.797000    8.912500    8.702500    8.880500    8.880500   \n",
              "2012-01-06    8.903500    9.232500    8.875000    9.130500    9.130500   \n",
              "2012-01-09    9.138000    9.218500    8.850000    8.928000    8.928000   \n",
              "...                ...         ...         ...         ...         ...   \n",
              "2024-05-01  181.639999  185.149994  176.559998  179.000000  179.000000   \n",
              "2024-05-02  180.850006  185.100006  179.910004  184.720001  184.720001   \n",
              "2024-05-03  186.990005  187.869995  185.419998  186.210007  186.210007   \n",
              "2024-05-06  186.279999  188.750000  184.800003  188.699997  188.699997   \n",
              "2024-05-07  188.919998  189.940002  187.309998  188.759995  188.759995   \n",
              "\n",
              "               Volume  \n",
              "Date                   \n",
              "2012-01-03  102216000  \n",
              "2012-01-04   84104000  \n",
              "2012-01-05   76182000  \n",
              "2012-01-06  140168000  \n",
              "2012-01-09  101138000  \n",
              "...               ...  \n",
              "2024-05-01   94645100  \n",
              "2024-05-02   54303500  \n",
              "2024-05-03   39172000  \n",
              "2024-05-06   34725300  \n",
              "2024-05-07   34048900  \n",
              "\n",
              "[3106 rows x 6 columns]"
            ]
          },
          "execution_count": 3,
          "metadata": {},
          "output_type": "execute_result"
        }
      ],
      "source": [
        "# Download stock market data as DataFrame\n",
        "# import the data of a company\n",
        "\n",
        "df = yfinance.download('AAPL', start='2012-01-01', end='2024-05-08', progress = False)\n",
        "\n",
        "df = yfinance.download('AMZN', start='2012-01-01', end='2024-05-08', progress = False)\n",
        "\n",
        "df"
      ]
    },
    {
      "cell_type": "markdown",
      "metadata": {
        "id": "xwNtlT29ETn8"
      },
      "source": [
        "If the company was not being publically traded on the start date, the dataset will begin from the day it began to be publically traded, or some date close to that.\n",
        "\n",
        "The stock market data has various features, i.e. the opening stock market price, the closing stock market price, the highest and the lowest stock market price of each day, and the volume of stocks traded.\n"
      ]
    },
    {
      "cell_type": "code",
      "execution_count": null,
      "metadata": {
        "id": "WHWPNAVtw3kJ"
      },
      "outputs": [],
      "source": [
        "# Create a new dataframe with only the 'Close' column\n",
        "data = df.filter(['Close'])"
      ]
    },
    {
      "cell_type": "code",
      "execution_count": null,
      "metadata": {
        "colab": {
          "base_uri": "https://localhost:8080/",
          "height": 524
        },
        "id": "5x1mwTfkx7bI",
        "outputId": "c61b4ae2-039e-4df0-8350-7b22f1911fa0"
      },
      "outputs": [
        {
          "data": {
            "image/png": "[encoded data removed]",
            "text/plain": [
              "<Figure size 1600x800 with 1 Axes>"
            ]
          },
          "metadata": {},
          "output_type": "display_data"
        }
      ],
      "source": [
        "# visualize the closing price history\n",
        "plt.figure(figsize=(16,8))\n",
        "plt.title('Closing Stock Price')\n",
        "plt.plot(data)\n",
        "plt.xlabel('Date', fontsize=18)\n",
        "plt.ylabel('Close Price in USD ($)', fontsize=18)\n",
        "plt.show()"
      ]
    },
    {
      "cell_type": "markdown",
      "metadata": {
        "id": "LXgicjL5F7K6"
      },
      "source": [
        "Convert our data into a numpy array. The LSTM model later will not accept a pandas.DataFrame object as its input."
      ]
    },
    {
      "cell_type": "code",
      "execution_count": null,
      "metadata": {
        "colab": {
          "base_uri": "https://localhost:8080/"
        },
        "id": "0ILIIWq4yNgq",
        "outputId": "789cd1bb-8c16-4f22-9116-130a44809262"
      },
      "outputs": [
        {
          "name": "stdout",
          "output_type": "stream",
          "text": [
            "The number of rows we shall use for training is 2485.\n"
          ]
        }
      ],
      "source": [
        "# Convert the dataframe to a numpy array\n",
        "dataset = data.values\n",
        "# Get the number of rows to train the model on\n",
        "training_data_len = math.ceil(len(dataset) * .8)\n",
        "\n",
        "print(f\"The number of rows we shall use for training is {training_data_len}.\")\n"
      ]
    },
    {
      "cell_type": "markdown",
      "metadata": {
        "id": "h3jlfWGRGiF-"
      },
      "source": [
        "Scale the data to make the Machine Learning (ML) model training much more efficient."
      ]
    },
    {
      "cell_type": "code",
      "execution_count": null,
      "metadata": {
        "colab": {
          "base_uri": "https://localhost:8080/"
        },
        "id": "VOI3BPO0yz_I",
        "outputId": "b0546800-c2e7-4f47-a42e-a28a67480c23"
      },
      "outputs": [
        {
          "data": {
            "text/plain": [
              "array([[8.59898590e-04],\n",
              "       [4.38268983e-04],\n",
              "       [4.66008330e-04],\n",
              "       ...,\n",
              "       [9.84244432e-01],\n",
              "       [9.98058256e-01],\n",
              "       [9.98391107e-01]])"
            ]
          },
          "execution_count": 7,
          "metadata": {},
          "output_type": "execute_result"
        }
      ],
      "source": [
        "# Scale the data\n",
        "scaler = MinMaxScaler(feature_range=(0,1))\n",
        "# StadardScaler() after \"from sklearn.preprocessing import StandarsScaler()\"\n",
        "scaled_data = scaler.fit_transform(dataset)\n",
        "scaled_data"
      ]
    },
    {
      "cell_type": "markdown",
      "metadata": {
        "id": "wXOttlZLG21M"
      },
      "source": [
        "Define the training set suitable for use for the LSTM model\n"
      ]
    },
    {
      "cell_type": "code",
      "execution_count": null,
      "metadata": {
        "colab": {
          "base_uri": "https://localhost:8080/"
        },
        "id": "XdmYvwQqzRMb",
        "outputId": "96ec14a1-d250-439f-c2b2-c902b6e3a744"
      },
      "outputs": [
        {
          "name": "stdout",
          "output_type": "stream",
          "text": [
            "[array([0.0008599 , 0.00043827, 0.00046601, 0.00185294, 0.00072953,\n",
            "       0.00094589, 0.00082384, 0.        , 0.00069069, 0.00158943,\n",
            "       0.0037475 , 0.00513721, 0.00416081, 0.00281825, 0.00307068,\n",
            "       0.00329259, 0.00482376, 0.00539241, 0.00449922, 0.00513444,\n",
            "       0.00097917, 0.00160607, 0.0032593 , 0.00199996, 0.00229122,\n",
            "       0.00264905, 0.00251035, 0.00266569, 0.00434388, 0.00426344,\n",
            "       0.00236889, 0.00110955, 0.00182243, 0.00175586, 0.00128985,\n",
            "       0.00082106, 0.00088764, 0.00072121, 0.00218303, 0.00104297,\n",
            "       0.00114006, 0.00093479, 0.00120108, 0.00143131, 0.00217472,\n",
            "       0.0032482 , 0.00232727, 0.00206931, 0.00240217, 0.00175586,\n",
            "       0.00235779, 0.00252977, 0.00266014, 0.00454915, 0.00438272,\n",
            "       0.00456856, 0.00530087, 0.00747281, 0.00818569, 0.00699847])]\n",
            "[0.007955462682385742]\n",
            "\n",
            "[array([0.0008599 , 0.00043827, 0.00046601, 0.00185294, 0.00072953,\n",
            "       0.00094589, 0.00082384, 0.        , 0.00069069, 0.00158943,\n",
            "       0.0037475 , 0.00513721, 0.00416081, 0.00281825, 0.00307068,\n",
            "       0.00329259, 0.00482376, 0.00539241, 0.00449922, 0.00513444,\n",
            "       0.00097917, 0.00160607, 0.0032593 , 0.00199996, 0.00229122,\n",
            "       0.00264905, 0.00251035, 0.00266569, 0.00434388, 0.00426344,\n",
            "       0.00236889, 0.00110955, 0.00182243, 0.00175586, 0.00128985,\n",
            "       0.00082106, 0.00088764, 0.00072121, 0.00218303, 0.00104297,\n",
            "       0.00114006, 0.00093479, 0.00120108, 0.00143131, 0.00217472,\n",
            "       0.0032482 , 0.00232727, 0.00206931, 0.00240217, 0.00175586,\n",
            "       0.00235779, 0.00252977, 0.00266014, 0.00454915, 0.00438272,\n",
            "       0.00456856, 0.00530087, 0.00747281, 0.00818569, 0.00699847]), array([0.00043827, 0.00046601, 0.00185294, 0.00072953, 0.00094589,\n",
            "       0.00082384, 0.        , 0.00069069, 0.00158943, 0.0037475 ,\n",
            "       0.00513721, 0.00416081, 0.00281825, 0.00307068, 0.00329259,\n",
            "       0.00482376, 0.00539241, 0.00449922, 0.00513444, 0.00097917,\n",
            "       0.00160607, 0.0032593 , 0.00199996, 0.00229122, 0.00264905,\n",
            "       0.00251035, 0.00266569, 0.00434388, 0.00426344, 0.00236889,\n",
            "       0.00110955, 0.00182243, 0.00175586, 0.00128985, 0.00082106,\n",
            "       0.00088764, 0.00072121, 0.00218303, 0.00104297, 0.00114006,\n",
            "       0.00093479, 0.00120108, 0.00143131, 0.00217472, 0.0032482 ,\n",
            "       0.00232727, 0.00206931, 0.00240217, 0.00175586, 0.00235779,\n",
            "       0.00252977, 0.00266014, 0.00454915, 0.00438272, 0.00456856,\n",
            "       0.00530087, 0.00747281, 0.00818569, 0.00699847, 0.00795546])]\n",
            "[0.007955462682385742, 0.007372946979484318]\n",
            "\n"
          ]
        }
      ],
      "source": [
        "# The number of days with stock market prices that LSTM model will \"look back\" on\n",
        "num_days_look_back = 60\n",
        "\n",
        "# Create the scaled training dataset\n",
        "train_data = scaled_data[0: training_data_len, :]\n",
        "# Split the data into x_train and y_train dataset\n",
        "x_train = []\n",
        "y_train = []\n",
        "for i in range(num_days_look_back, len(train_data)):\n",
        "  x_train.append(train_data[i-num_days_look_back:i, 0])\n",
        "  y_train.append(train_data[i,0])\n",
        "# display example values\n",
        "  if i <= num_days_look_back + 1:\n",
        "    print(x_train)\n",
        "    print(y_train)\n",
        "    print()"
      ]
    },
    {
      "cell_type": "markdown",
      "metadata": {
        "id": "BrYsr1LPHQXS"
      },
      "source": [
        "The LSTM model is pretty picky in the data type of objects it accepts. Convert the training dataset to numpy arrays."
      ]
    },
    {
      "cell_type": "code",
      "execution_count": null,
      "metadata": {
        "id": "0t-ARWRNz5i0"
      },
      "outputs": [],
      "source": [
        "# Convert the x_train and y_train to numpy arrays\n",
        "x_train, y_train = np.array(x_train), np.array(y_train)"
      ]
    },
    {
      "cell_type": "markdown",
      "metadata": {
        "id": "2hfYvsxxHiBO"
      },
      "source": [
        "The LSTM model is picky not only in datatype, but also in the dimension (i.e. `shape`) of its input.\n"
      ]
    },
    {
      "cell_type": "code",
      "execution_count": null,
      "metadata": {
        "colab": {
          "base_uri": "https://localhost:8080/"
        },
        "id": "A1irk_M7093m",
        "outputId": "d48be853-585e-48d0-e1fb-8b6cbea62ffc"
      },
      "outputs": [
        {
          "data": {
            "text/plain": [
              "(2425, 60, 1)"
            ]
          },
          "execution_count": 10,
          "metadata": {},
          "output_type": "execute_result"
        }
      ],
      "source": [
        "# Reshape the data\n",
        "x_train = np.reshape(x_train, (x_train.shape[0], x_train.shape[1], 1))\n",
        "x_train.shape"
      ]
    },
    {
      "cell_type": "markdown",
      "metadata": {
        "id": "NfT6tO-KHyyQ"
      },
      "source": [
        "Experment with different hyperparameters, form main project\n",
        "\n",
        "- number of hidden layers\n",
        "- number of neurons (i.e. `units`) in each layer\n",
        "- types of layers. Choose `LSTM` layer, a fully connected layer (i.e. a `Dense` layer, which is called so because all the nuerons are \"densely\" connected), etc. There are other layers that to explore also, such as:\n",
        "  - `Dropout` layer, which is a type of regularization which has somewhat similar effect of L2 or L1 regularization. Drops out a random subset of neurons of a single layer when we do gradient descent.\n",
        "  - `BatchNormalization` layer, which normalizes the activations previous layer (i.e. the outputs of previous layer). In other words, batch normalization is applying z-score normalization to the activations of previous layer.\n",
        "- hyperparameters, such as:\n",
        "  - the percentage of neurons dropped out by the `Dropout` layer, e.g. a = 0.1 or 0.2 in `Dropout(a)`. `Dropout(0.2)` will drop out 20% of the neurons of the layer that comes before it."
      ]
    },
    {
      "cell_type": "code",
      "execution_count": null,
      "metadata": {
        "colab": {
          "base_uri": "https://localhost:8080/",
          "height": 211
        },
        "id": "kx08-jl71DR3",
        "outputId": "90db8cc5-5639-4e00-fa85-23312ae26b27"
      },
      "outputs": [
        {
          "ename": "NameError",
          "evalue": "name 'Sequential' is not defined",
          "output_type": "error",
          "traceback": [
            "\u001b[0;31m---------------------------------------------------------------------------\u001b[0m",
            "\u001b[0;31mNameError\u001b[0m                                 Traceback (most recent call last)",
            "\u001b[0;32m<ipython-input-1-f9acf128f200>\u001b[0m in \u001b[0;36m<cell line: 2>\u001b[0;34m()\u001b[0m\n\u001b[1;32m      1\u001b[0m \u001b[0;31m#Build the LSTM model\u001b[0m\u001b[0;34m\u001b[0m\u001b[0;34m\u001b[0m\u001b[0m\n\u001b[0;32m----> 2\u001b[0;31m \u001b[0mmodel\u001b[0m \u001b[0;34m=\u001b[0m \u001b[0mSequential\u001b[0m\u001b[0;34m(\u001b[0m\u001b[0;34m)\u001b[0m\u001b[0;34m\u001b[0m\u001b[0;34m\u001b[0m\u001b[0m\n\u001b[0m\u001b[1;32m      3\u001b[0m \u001b[0mmodel\u001b[0m\u001b[0;34m.\u001b[0m\u001b[0madd\u001b[0m\u001b[0;34m(\u001b[0m\u001b[0mLSTM\u001b[0m\u001b[0;34m(\u001b[0m\u001b[0;36m32\u001b[0m\u001b[0;34m,\u001b[0m \u001b[0mreturn_sequences\u001b[0m\u001b[0;34m=\u001b[0m\u001b[0;32mTrue\u001b[0m\u001b[0;34m,\u001b[0m \u001b[0minput_shape\u001b[0m \u001b[0;34m=\u001b[0m \u001b[0;34m(\u001b[0m\u001b[0mx_train\u001b[0m\u001b[0;34m.\u001b[0m\u001b[0mshape\u001b[0m\u001b[0;34m[\u001b[0m\u001b[0;36m1\u001b[0m\u001b[0;34m]\u001b[0m\u001b[0;34m,\u001b[0m \u001b[0;36m1\u001b[0m\u001b[0;34m)\u001b[0m\u001b[0;34m)\u001b[0m\u001b[0;34m)\u001b[0m\u001b[0;34m\u001b[0m\u001b[0;34m\u001b[0m\u001b[0m\n\u001b[1;32m      4\u001b[0m \u001b[0mmodel\u001b[0m\u001b[0;34m.\u001b[0m\u001b[0madd\u001b[0m\u001b[0;34m(\u001b[0m\u001b[0mLSTM\u001b[0m\u001b[0;34m(\u001b[0m\u001b[0;36m32\u001b[0m\u001b[0;34m,\u001b[0m \u001b[0mreturn_sequences\u001b[0m\u001b[0;34m=\u001b[0m\u001b[0;32mTrue\u001b[0m\u001b[0;34m)\u001b[0m\u001b[0;34m)\u001b[0m\u001b[0;34m\u001b[0m\u001b[0;34m\u001b[0m\u001b[0m\n\u001b[1;32m      5\u001b[0m \u001b[0mmodel\u001b[0m\u001b[0;34m.\u001b[0m\u001b[0madd\u001b[0m\u001b[0;34m(\u001b[0m\u001b[0mLSTM\u001b[0m\u001b[0;34m(\u001b[0m\u001b[0;36m32\u001b[0m\u001b[0;34m,\u001b[0m \u001b[0mreturn_sequences\u001b[0m\u001b[0;34m=\u001b[0m\u001b[0;32mTrue\u001b[0m\u001b[0;34m)\u001b[0m\u001b[0;34m)\u001b[0m\u001b[0;34m\u001b[0m\u001b[0;34m\u001b[0m\u001b[0m\n",
            "\u001b[0;31mNameError\u001b[0m: name 'Sequential' is not defined"
          ]
        }
      ],
      "source": [
        "\n",
        "#Build the LSTM model\n",
        "model = Sequential()\n",
        "model.add(LSTM(32, return_sequences=True, input_shape = (x_train.shape[1], 1)))\n",
        "model.add(LSTM(32, return_sequences=True))\n",
        "model.add(LSTM(32, return_sequences=True))\n",
        "model.add(LSTM(32, return_sequences=False))\n",
        "model.add(Dense(25))\n",
        "model.add(Dense(1))\n",
        "\n",
        "# The above can also be written in the following form as follows, which gives exactly the same result as above:\n",
        "#model = Sequential([\n",
        " #   LSTM(units = 32, return_sequences=True, input_shape = (x_train.shape[1], 1)),\n",
        " #   LSTM(units = 32, return_sequences=True),\n",
        "  #  LSTM(units = 32, return_sequences=True),\n",
        "  #  LSTM(units = 32, return_sequences=False),\n",
        "   # Dense(units = 25),\n",
        "    #Dense(units = 1)\n",
        "#])"
      ]
    },
    {
      "cell_type": "markdown",
      "metadata": {
        "id": "rxfnW_yvL6uc"
      },
      "source": [
        "the `return_sequences=True` is needed for all LSTM layers except the last LSTM layer, just so that the output of a previous LSTM layer matches the input shape and type of the LSTM layer that comes after it. Also, you can actually skip writing `units =` for every layer; writing `units =` is optional. Also, notice that `unit = 1` for last layer will produce an error, i.e. it has to have `s` at the end of `unit` even if we only have 1 neuron."
      ]
    },
    {
      "cell_type": "markdown",
      "metadata": {
        "id": "n7OseBl1NATs"
      },
      "source": [
        "Great! Now you have constructed your model. Now we just need to specify what optimizer to use and what will be our loss function, so that the computer knows precisely what to do for running gradient descent:"
      ]
    },
    {
      "cell_type": "code",
      "execution_count": null,
      "metadata": {
        "id": "Tx-FAfl01pDy"
      },
      "outputs": [],
      "source": [
        "# import different optimizers\n",
        "from keras.optimizers import Adam, SGD, RMSprop, Adagrad, Adadelta, Nadam\n",
        "\n",
        "# start here ----------------\n",
        "# compile your model\n",
        "\n",
        "learning_rate = 0.001\n",
        "optimizer = RMSprop(learning_rate=learning_rate)\n",
        "model.compile(optimizer=optimizer, loss='mean_squared_error')\n",
        "# end here ------------------\n",
        "\n",
        "\n",
        "# Set the learning rate\n",
        "#learning_rate = 0.01\n",
        "\n",
        "# Create the Adam optimizer with the desired learning rate\n",
        "#optimizer = Adam(learning_rate=learning_rate)\n",
        "\n",
        "# Compile the model with the custom optimizer\n",
        "#model.compile(optimizer=optimizer, loss='mean_squared_error')"
      ]
    },
    {
      "cell_type": "code",
      "execution_count": null,
      "metadata": {
        "id": "buB4STdpeQ47"
      },
      "outputs": [],
      "source": []
    },
    {
      "cell_type": "markdown",
      "metadata": {
        "id": "tAtMAnt5M9ik"
      },
      "source": [
        "Feel free to experiment with different optimizers, i.e. set `optimizer` as,:\n",
        " - For Stochastic Gradient Descent, `SGD(learning_rate=0.01, momentum=0.9)`;\n",
        " - For RMSprop, `RMSprop(learning_rate=0.001)`;\n",
        " - For Adagrade, `Adagrad(learning_rate=0.01)`;\n",
        " - For Adadelta, `Adadelta(learning_rate=0.01)`;\n",
        " - For Adam RMSprop with Nesterov momentum, `Nadam(learning_rate=0.002)`;\n",
        "\n",
        "where each `learning_rate` (and, for SGD, `momentum`), is a hyperparameter you can also change."
      ]
    },
    {
      "cell_type": "markdown",
      "metadata": {
        "id": "Wfhz6c_9Pbjd"
      },
      "source": [
        "Now it's time for you to train the model! Below will take a few minutes to run."
      ]
    },
    {
      "cell_type": "code",
      "execution_count": null,
      "metadata": {
        "colab": {
          "base_uri": "https://localhost:8080/"
        },
        "id": "rLEn3iOq1zup",
        "outputId": "ec6939ef-5065-4067-9b0d-dd927ff88725"
      },
      "outputs": [
        {
          "name": "stdout",
          "output_type": "stream",
          "text": [
            "Epoch 1/3\n",
            "\u001b[1m2425/2425\u001b[0m \u001b[32m━━━━━━━━━━━━━━━━━━━━\u001b[0m\u001b[37m\u001b[0m \u001b[1m137s\u001b[0m 55ms/step - loss: 0.0076\n",
            "Epoch 2/3\n",
            "\u001b[1m2425/2425\u001b[0m \u001b[32m━━━━━━━━━━━━━━━━━━━━\u001b[0m\u001b[37m\u001b[0m \u001b[1m144s\u001b[0m 56ms/step - loss: 0.0014\n",
            "Epoch 3/3\n",
            "\u001b[1m2425/2425\u001b[0m \u001b[32m━━━━━━━━━━━━━━━━━━━━\u001b[0m\u001b[37m\u001b[0m \u001b[1m135s\u001b[0m 56ms/step - loss: 0.0011\n",
            "Epoch 1/3\n",
            "\u001b[1m2425/2425\u001b[0m \u001b[32m━━━━━━━━━━━━━━━━━━━━\u001b[0m\u001b[37m\u001b[0m \u001b[1m132s\u001b[0m 54ms/step - loss: 8.9423e-04\n",
            "Epoch 2/3\n",
            "\u001b[1m2425/2425\u001b[0m \u001b[32m━━━━━━━━━━━━━━━━━━━━\u001b[0m\u001b[37m\u001b[0m \u001b[1m133s\u001b[0m 55ms/step - loss: 7.2021e-04\n",
            "Epoch 3/3\n",
            "\u001b[1m2425/2425\u001b[0m \u001b[32m━━━━━━━━━━━━━━━━━━━━\u001b[0m\u001b[37m\u001b[0m \u001b[1m141s\u001b[0m 55ms/step - loss: 6.6287e-04\n"
          ]
        },
        {
          "data": {
            "text/plain": [
              "<keras.src.callbacks.history.History at 0x7f25104acd60>"
            ]
          },
          "execution_count": 13,
          "metadata": {},
          "output_type": "execute_result"
        }
      ],
      "source": [
        "# start here -----------\n",
        "# Train the model\n",
        "model.fit(x_train, y_train, batch_size=1, epochs=3)\n",
        "\n",
        "# end here -------------\n",
        "\n",
        "\n",
        "# Train the model\n",
        "model.fit(x_train, y_train, batch_size=1, epochs=3)"
      ]
    },
    {
      "cell_type": "markdown",
      "metadata": {
        "id": "i_3U_6yIPisA"
      },
      "source": [
        "In the above, `batch_size` and `epochs` are also hyperparameters you can change. If you are curious, I will be glad to tell you what each of these mean in the next meeting :)"
      ]
    },
    {
      "cell_type": "markdown",
      "metadata": {
        "id": "6N_ESyMUTRUx"
      },
      "source": [
        "Notice that running the above with large number of epochs will result in a really long running time (`ETA` stands for \"Estimated Time Arrival\" to our 'destination' of the end of the epoch). If you did wait for such a long time, you now know why a hardware with high computation power, like GPU, is useful for machine learning: our regular laptop runs very slowly for training even a small to moderately sized ML model."
      ]
    },
    {
      "cell_type": "markdown",
      "metadata": {
        "id": "8uHB9bsBQCAd"
      },
      "source": [
        "Similar to how we defined our training dataset, we define our test dataset by a similar process:"
      ]
    },
    {
      "cell_type": "code",
      "execution_count": null,
      "metadata": {
        "id": "FRIqZGKG160l"
      },
      "outputs": [],
      "source": [
        "# Create the testing dataset\n",
        "\n",
        "test_data = scaled_data[training_data_len - num_days_look_back: , :]\n",
        "\n",
        "# Create the dataset x_test and y_test\n",
        "x_test = []\n",
        "y_test = dataset[training_data_len:, :]\n",
        "\n",
        "for i in range(num_days_look_back, len(test_data)):\n",
        "  x_test.append(test_data[i-num_days_look_back:i, 0])"
      ]
    },
    {
      "cell_type": "markdown",
      "metadata": {
        "id": "ocSYBHpzQQK9"
      },
      "source": [
        "Again, since LSTM is picky for its inputs, we modify the format of our text dataset appropriately:"
      ]
    },
    {
      "cell_type": "code",
      "execution_count": null,
      "metadata": {
        "id": "XPy8elKP2U6r"
      },
      "outputs": [],
      "source": [
        "# Convert the data to a numpy array\n",
        "x_test = np.array(x_test)"
      ]
    },
    {
      "cell_type": "code",
      "execution_count": null,
      "metadata": {
        "id": "mW9kJltH2ptM"
      },
      "outputs": [],
      "source": [
        "# Reshape the data\n",
        "x_test = np.reshape(x_test, (x_test.shape[0], x_test.shape[1], 1))"
      ]
    },
    {
      "cell_type": "markdown",
      "metadata": {
        "id": "Z4cHXo-LQbTC"
      },
      "source": [
        "Now for the predictions:"
      ]
    },
    {
      "cell_type": "code",
      "execution_count": null,
      "metadata": {
        "colab": {
          "base_uri": "https://localhost:8080/"
        },
        "id": "UcsGTD3g23qP",
        "outputId": "268e385a-1cca-4475-c7d4-41c5a211363e"
      },
      "outputs": [
        {
          "name": "stdout",
          "output_type": "stream",
          "text": [
            "20/20 [==============================] - 3s 36ms/step\n"
          ]
        }
      ],
      "source": [
        "# start -------------\n",
        "# Get the model's predicted price values\n",
        "\n",
        "\n",
        "# end ---------------\n",
        "\n",
        "\n",
        "\n",
        "\n",
        "# Get the model's predicted price values\n",
        "predictions = model.predict(x_test)\n",
        "predictions = scaler.inverse_transform(predictions)"
      ]
    },
    {
      "cell_type": "markdown",
      "metadata": {
        "id": "IZPhtSyNQo8Z"
      },
      "source": [
        "Great, we have the predictions. Let's graph it:"
      ]
    },
    {
      "cell_type": "code",
      "execution_count": null,
      "metadata": {
        "colab": {
          "base_uri": "https://localhost:8080/",
          "height": 679
        },
        "id": "eYhCRXuM3yva",
        "outputId": "aad7fd8f-33d9-498c-a13e-10983e1f094e"
      },
      "outputs": [
        {
          "name": "stderr",
          "output_type": "stream",
          "text": [
            "<ipython-input-20-1321e78c380d>:4: SettingWithCopyWarning: \n",
            "A value is trying to be set on a copy of a slice from a DataFrame.\n",
            "Try using .loc[row_indexer,col_indexer] = value instead\n",
            "\n",
            "See the caveats in the documentation: https://pandas.pydata.org/pandas-docs/stable/user_guide/indexing.html#returning-a-view-versus-a-copy\n",
            "  valid['Predictions'] = predictions\n"
          ]
        },
        {
          "data": {
            "image/png": "[encoded data removed]",
            "text/plain": [
              "<Figure size 1600x800 with 1 Axes>"
            ]
          },
          "metadata": {},
          "output_type": "display_data"
        }
      ],
      "source": [
        "# Plot the data\n",
        "train = data[:training_data_len]\n",
        "valid = data[training_data_len:]\n",
        "valid['Predictions'] = predictions\n",
        "# Visualize the real and predicted data\n",
        "plt.figure(figsize=(16,8))\n",
        "plt.title('Model')\n",
        "plt.xlabel('Date', fontsize=18)\n",
        "plt.ylabel('Closing Price in USD ($)', fontsize=18)\n",
        "plt.plot()\n",
        "plt.plot(train['Close'])\n",
        "plt.plot(valid[['Close', 'Predictions']])\n",
        "plt.legend(['Train', 'Validation', 'Predictions'], loc = 'lower right')\n",
        "plt.show()"
      ]
    },
    {
      "cell_type": "code",
      "execution_count": null,
      "metadata": {
        "colab": {
          "base_uri": "https://localhost:8080/",
          "height": 455
        },
        "id": "jXNLkHMP4hKH",
        "outputId": "9f3db585-52c6-480a-f86c-1935663f4c19"
      },
      "outputs": [
        {
          "data": {
            "application/vnd.google.colaboratory.intrinsic+json": {
              "summary": "{\n  \"name\": \"valid\",\n  \"rows\": 621,\n  \"fields\": [\n    {\n      \"column\": \"Date\",\n      \"properties\": {\n        \"dtype\": \"date\",\n        \"min\": \"2021-11-16 00:00:00\",\n        \"max\": \"2024-05-07 00:00:00\",\n        \"num_unique_values\": 621,\n        \"samples\": [\n          \"2022-01-27 00:00:00\",\n          \"2024-03-15 00:00:00\",\n          \"2022-03-16 00:00:00\"\n        ],\n        \"semantic_type\": \"\",\n        \"description\": \"\"\n      }\n    },\n    {\n      \"column\": \"Close\",\n      \"properties\": {\n        \"dtype\": \"number\",\n        \"std\": 27.607826256332675,\n        \"min\": 81.81999969482422,\n        \"max\": 189.0500030517578,\n        \"num_unique_values\": 602,\n        \"samples\": [\n          139.39100646972656,\n          128.14999389648438,\n          174.47999572753906\n        ],\n        \"semantic_type\": \"\",\n        \"description\": \"\"\n      }\n    },\n    {\n      \"column\": \"Predictions\",\n      \"properties\": {\n        \"dtype\": \"float32\",\n        \"num_unique_values\": 621,\n        \"samples\": [\n          147.57435607910156,\n          165.50323486328125,\n          150.96205139160156\n        ],\n        \"semantic_type\": \"\",\n        \"description\": \"\"\n      }\n    }\n  ]\n}",
              "type": "dataframe",
              "variable_name": "valid"
            },
            "text/html": [
              "\n",
              "  <div id=\"df-9ddf9d93-a7b9-4059-8544-76795adf81ff\" class=\"colab-df-container\">\n",
              "    <div>\n",
              "<style scoped>\n",
              "    .dataframe tbody tr th:only-of-type {\n",
              "        vertical-align: middle;\n",
              "    }\n",
              "\n",
              "    .dataframe tbody tr th {\n",
              "        vertical-align: top;\n",
              "    }\n",
              "\n",
              "    .dataframe thead th {\n",
              "        text-align: right;\n",
              "    }\n",
              "</style>\n",
              "<table border=\"1\" class=\"dataframe\">\n",
              "  <thead>\n",
              "    <tr style=\"text-align: right;\">\n",
              "      <th></th>\n",
              "      <th>Close</th>\n",
              "      <th>Predictions</th>\n",
              "    </tr>\n",
              "    <tr>\n",
              "      <th>Date</th>\n",
              "      <th></th>\n",
              "      <th></th>\n",
              "    </tr>\n",
              "  </thead>\n",
              "  <tbody>\n",
              "    <tr>\n",
              "      <th>2021-11-16</th>\n",
              "      <td>177.035004</td>\n",
              "      <td>164.700119</td>\n",
              "    </tr>\n",
              "    <tr>\n",
              "      <th>2021-11-17</th>\n",
              "      <td>177.449997</td>\n",
              "      <td>165.356171</td>\n",
              "    </tr>\n",
              "    <tr>\n",
              "      <th>2021-11-18</th>\n",
              "      <td>184.802994</td>\n",
              "      <td>165.228455</td>\n",
              "    </tr>\n",
              "    <tr>\n",
              "      <th>2021-11-19</th>\n",
              "      <td>183.828506</td>\n",
              "      <td>166.799896</td>\n",
              "    </tr>\n",
              "    <tr>\n",
              "      <th>2021-11-22</th>\n",
              "      <td>178.628494</td>\n",
              "      <td>167.418655</td>\n",
              "    </tr>\n",
              "    <tr>\n",
              "      <th>...</th>\n",
              "      <td>...</td>\n",
              "      <td>...</td>\n",
              "    </tr>\n",
              "    <tr>\n",
              "      <th>2024-05-01</th>\n",
              "      <td>179.000000</td>\n",
              "      <td>164.860153</td>\n",
              "    </tr>\n",
              "    <tr>\n",
              "      <th>2024-05-02</th>\n",
              "      <td>184.720001</td>\n",
              "      <td>164.698776</td>\n",
              "    </tr>\n",
              "    <tr>\n",
              "      <th>2024-05-03</th>\n",
              "      <td>186.210007</td>\n",
              "      <td>166.513672</td>\n",
              "    </tr>\n",
              "    <tr>\n",
              "      <th>2024-05-06</th>\n",
              "      <td>188.699997</td>\n",
              "      <td>168.175980</td>\n",
              "    </tr>\n",
              "    <tr>\n",
              "      <th>2024-05-07</th>\n",
              "      <td>188.759995</td>\n",
              "      <td>168.916275</td>\n",
              "    </tr>\n",
              "  </tbody>\n",
              "</table>\n",
              "<p>621 rows × 2 columns</p>\n",
              "</div>\n",
              "    <div class=\"colab-df-buttons\">\n",
              "\n",
              "  <div class=\"colab-df-container\">\n",
              "    <button class=\"colab-df-convert\" onclick=\"convertToInteractive('df-9ddf9d93-a7b9-4059-8544-76795adf81ff')\"\n",
              "            title=\"Convert this dataframe to an interactive table.\"\n",
              "            style=\"display:none;\">\n",
              "\n",
              "  <svg xmlns=\"http://www.w3.org/2000/svg\" height=\"24px\" viewBox=\"0 -960 960 960\">\n",
              "    <path d=\"M120-120v-720h720v720H120Zm60-500h600v-160H180v160Zm220 220h160v-160H400v160Zm0 220h160v-160H400v160ZM180-400h160v-160H180v160Zm440 0h160v-160H620v160ZM180-180h160v-160H180v160Zm440 0h160v-160H620v160Z\"/>\n",
              "  </svg>\n",
              "    </button>\n",
              "\n",
              "  <style>\n",
              "    .colab-df-container {\n",
              "      display:flex;\n",
              "      gap: 12px;\n",
              "    }\n",
              "\n",
              "    .colab-df-convert {\n",
              "      background-color: #E8F0FE;\n",
              "      border: none;\n",
              "      border-radius: 50%;\n",
              "      cursor: pointer;\n",
              "      display: none;\n",
              "      fill: #1967D2;\n",
              "      height: 32px;\n",
              "      padding: 0 0 0 0;\n",
              "      width: 32px;\n",
              "    }\n",
              "\n",
              "    .colab-df-convert:hover {\n",
              "      background-color: #E2EBFA;\n",
              "      box-shadow: 0px 1px 2px rgba(60, 64, 67, 0.3), 0px 1px 3px 1px rgba(60, 64, 67, 0.15);\n",
              "      fill: #174EA6;\n",
              "    }\n",
              "\n",
              "    .colab-df-buttons div {\n",
              "      margin-bottom: 4px;\n",
              "    }\n",
              "\n",
              "    [theme=dark] .colab-df-convert {\n",
              "      background-color: #3B4455;\n",
              "      fill: #D2E3FC;\n",
              "    }\n",
              "\n",
              "    [theme=dark] .colab-df-convert:hover {\n",
              "      background-color: #434B5C;\n",
              "      box-shadow: 0px 1px 3px 1px rgba(0, 0, 0, 0.15);\n",
              "      filter: drop-shadow(0px 1px 2px rgba(0, 0, 0, 0.3));\n",
              "      fill: #FFFFFF;\n",
              "    }\n",
              "  </style>\n",
              "\n",
              "    <script>\n",
              "      const buttonEl =\n",
              "        document.querySelector('#df-9ddf9d93-a7b9-4059-8544-76795adf81ff button.colab-df-convert');\n",
              "      buttonEl.style.display =\n",
              "        google.colab.kernel.accessAllowed ? 'block' : 'none';\n",
              "\n",
              "      async function convertToInteractive(key) {\n",
              "        const element = document.querySelector('#df-9ddf9d93-a7b9-4059-8544-76795adf81ff');\n",
              "        const dataTable =\n",
              "          await google.colab.kernel.invokeFunction('convertToInteractive',\n",
              "                                                    [key], {});\n",
              "        if (!dataTable) return;\n",
              "\n",
              "        const docLinkHtml = 'Like what you see? Visit the ' +\n",
              "          '<a target=\"_blank\" href=https://colab.research.google.com/notebooks/data_table.ipynb>data table notebook</a>'\n",
              "          + ' to learn more about interactive tables.';\n",
              "        element.innerHTML = '';\n",
              "        dataTable['output_type'] = 'display_data';\n",
              "        await google.colab.output.renderOutput(dataTable, element);\n",
              "        const docLink = document.createElement('div');\n",
              "        docLink.innerHTML = docLinkHtml;\n",
              "        element.appendChild(docLink);\n",
              "      }\n",
              "    </script>\n",
              "  </div>\n",
              "\n",
              "\n",
              "<div id=\"df-7bed472c-292e-45d8-8e6d-96700541ca0a\">\n",
              "  <button class=\"colab-df-quickchart\" onclick=\"quickchart('df-7bed472c-292e-45d8-8e6d-96700541ca0a')\"\n",
              "            title=\"Suggest charts\"\n",
              "            style=\"display:none;\">\n",
              "\n",
              "<svg xmlns=\"http://www.w3.org/2000/svg\" height=\"24px\"viewBox=\"0 0 24 24\"\n",
              "     width=\"24px\">\n",
              "    <g>\n",
              "        <path d=\"M19 3H5c-1.1 0-2 .9-2 2v14c0 1.1.9 2 2 2h14c1.1 0 2-.9 2-2V5c0-1.1-.9-2-2-2zM9 17H7v-7h2v7zm4 0h-2V7h2v10zm4 0h-2v-4h2v4z\"/>\n",
              "    </g>\n",
              "</svg>\n",
              "  </button>\n",
              "\n",
              "<style>\n",
              "  .colab-df-quickchart {\n",
              "      --bg-color: #E8F0FE;\n",
              "      --fill-color: #1967D2;\n",
              "      --hover-bg-color: #E2EBFA;\n",
              "      --hover-fill-color: #174EA6;\n",
              "      --disabled-fill-color: #AAA;\n",
              "      --disabled-bg-color: #DDD;\n",
              "  }\n",
              "\n",
              "  [theme=dark] .colab-df-quickchart {\n",
              "      --bg-color: #3B4455;\n",
              "      --fill-color: #D2E3FC;\n",
              "      --hover-bg-color: #434B5C;\n",
              "      --hover-fill-color: #FFFFFF;\n",
              "      --disabled-bg-color: #3B4455;\n",
              "      --disabled-fill-color: #666;\n",
              "  }\n",
              "\n",
              "  .colab-df-quickchart {\n",
              "    background-color: var(--bg-color);\n",
              "    border: none;\n",
              "    border-radius: 50%;\n",
              "    cursor: pointer;\n",
              "    display: none;\n",
              "    fill: var(--fill-color);\n",
              "    height: 32px;\n",
              "    padding: 0;\n",
              "    width: 32px;\n",
              "  }\n",
              "\n",
              "  .colab-df-quickchart:hover {\n",
              "    background-color: var(--hover-bg-color);\n",
              "    box-shadow: 0 1px 2px rgba(60, 64, 67, 0.3), 0 1px 3px 1px rgba(60, 64, 67, 0.15);\n",
              "    fill: var(--button-hover-fill-color);\n",
              "  }\n",
              "\n",
              "  .colab-df-quickchart-complete:disabled,\n",
              "  .colab-df-quickchart-complete:disabled:hover {\n",
              "    background-color: var(--disabled-bg-color);\n",
              "    fill: var(--disabled-fill-color);\n",
              "    box-shadow: none;\n",
              "  }\n",
              "\n",
              "  .colab-df-spinner {\n",
              "    border: 2px solid var(--fill-color);\n",
              "    border-color: transparent;\n",
              "    border-bottom-color: var(--fill-color);\n",
              "    animation:\n",
              "      spin 1s steps(1) infinite;\n",
              "  }\n",
              "\n",
              "  @keyframes spin {\n",
              "    0% {\n",
              "      border-color: transparent;\n",
              "      border-bottom-color: var(--fill-color);\n",
              "      border-left-color: var(--fill-color);\n",
              "    }\n",
              "    20% {\n",
              "      border-color: transparent;\n",
              "      border-left-color: var(--fill-color);\n",
              "      border-top-color: var(--fill-color);\n",
              "    }\n",
              "    30% {\n",
              "      border-color: transparent;\n",
              "      border-left-color: var(--fill-color);\n",
              "      border-top-color: var(--fill-color);\n",
              "      border-right-color: var(--fill-color);\n",
              "    }\n",
              "    40% {\n",
              "      border-color: transparent;\n",
              "      border-right-color: var(--fill-color);\n",
              "      border-top-color: var(--fill-color);\n",
              "    }\n",
              "    60% {\n",
              "      border-color: transparent;\n",
              "      border-right-color: var(--fill-color);\n",
              "    }\n",
              "    80% {\n",
              "      border-color: transparent;\n",
              "      border-right-color: var(--fill-color);\n",
              "      border-bottom-color: var(--fill-color);\n",
              "    }\n",
              "    90% {\n",
              "      border-color: transparent;\n",
              "      border-bottom-color: var(--fill-color);\n",
              "    }\n",
              "  }\n",
              "</style>\n",
              "\n",
              "  <script>\n",
              "    async function quickchart(key) {\n",
              "      const quickchartButtonEl =\n",
              "        document.querySelector('#' + key + ' button');\n",
              "      quickchartButtonEl.disabled = true;  // To prevent multiple clicks.\n",
              "      quickchartButtonEl.classList.add('colab-df-spinner');\n",
              "      try {\n",
              "        const charts = await google.colab.kernel.invokeFunction(\n",
              "            'suggestCharts', [key], {});\n",
              "      } catch (error) {\n",
              "        console.error('Error during call to suggestCharts:', error);\n",
              "      }\n",
              "      quickchartButtonEl.classList.remove('colab-df-spinner');\n",
              "      quickchartButtonEl.classList.add('colab-df-quickchart-complete');\n",
              "    }\n",
              "    (() => {\n",
              "      let quickchartButtonEl =\n",
              "        document.querySelector('#df-7bed472c-292e-45d8-8e6d-96700541ca0a button');\n",
              "      quickchartButtonEl.style.display =\n",
              "        google.colab.kernel.accessAllowed ? 'block' : 'none';\n",
              "    })();\n",
              "  </script>\n",
              "</div>\n",
              "\n",
              "  <div id=\"id_7b12f039-3ea1-422a-950d-2272fa1836fd\">\n",
              "    <style>\n",
              "      .colab-df-generate {\n",
              "        background-color: #E8F0FE;\n",
              "        border: none;\n",
              "        border-radius: 50%;\n",
              "        cursor: pointer;\n",
              "        display: none;\n",
              "        fill: #1967D2;\n",
              "        height: 32px;\n",
              "        padding: 0 0 0 0;\n",
              "        width: 32px;\n",
              "      }\n",
              "\n",
              "      .colab-df-generate:hover {\n",
              "        background-color: #E2EBFA;\n",
              "        box-shadow: 0px 1px 2px rgba(60, 64, 67, 0.3), 0px 1px 3px 1px rgba(60, 64, 67, 0.15);\n",
              "        fill: #174EA6;\n",
              "      }\n",
              "\n",
              "      [theme=dark] .colab-df-generate {\n",
              "        background-color: #3B4455;\n",
              "        fill: #D2E3FC;\n",
              "      }\n",
              "\n",
              "      [theme=dark] .colab-df-generate:hover {\n",
              "        background-color: #434B5C;\n",
              "        box-shadow: 0px 1px 3px 1px rgba(0, 0, 0, 0.15);\n",
              "        filter: drop-shadow(0px 1px 2px rgba(0, 0, 0, 0.3));\n",
              "        fill: #FFFFFF;\n",
              "      }\n",
              "    </style>\n",
              "    <button class=\"colab-df-generate\" onclick=\"generateWithVariable('valid')\"\n",
              "            title=\"Generate code using this dataframe.\"\n",
              "            style=\"display:none;\">\n",
              "\n",
              "  <svg xmlns=\"http://www.w3.org/2000/svg\" height=\"24px\"viewBox=\"0 0 24 24\"\n",
              "       width=\"24px\">\n",
              "    <path d=\"M7,19H8.4L18.45,9,17,7.55,7,17.6ZM5,21V16.75L18.45,3.32a2,2,0,0,1,2.83,0l1.4,1.43a1.91,1.91,0,0,1,.58,1.4,1.91,1.91,0,0,1-.58,1.4L9.25,21ZM18.45,9,17,7.55Zm-12,3A5.31,5.31,0,0,0,4.9,8.1,5.31,5.31,0,0,0,1,6.5,5.31,5.31,0,0,0,4.9,4.9,5.31,5.31,0,0,0,6.5,1,5.31,5.31,0,0,0,8.1,4.9,5.31,5.31,0,0,0,12,6.5,5.46,5.46,0,0,0,6.5,12Z\"/>\n",
              "  </svg>\n",
              "    </button>\n",
              "    <script>\n",
              "      (() => {\n",
              "      const buttonEl =\n",
              "        document.querySelector('#id_7b12f039-3ea1-422a-950d-2272fa1836fd button.colab-df-generate');\n",
              "      buttonEl.style.display =\n",
              "        google.colab.kernel.accessAllowed ? 'block' : 'none';\n",
              "\n",
              "      buttonEl.onclick = () => {\n",
              "        google.colab.notebook.generateWithVariable('valid');\n",
              "      }\n",
              "      })();\n",
              "    </script>\n",
              "  </div>\n",
              "\n",
              "    </div>\n",
              "  </div>\n"
            ],
            "text/plain": [
              "                 Close  Predictions\n",
              "Date                               \n",
              "2021-11-16  177.035004   164.700119\n",
              "2021-11-17  177.449997   165.356171\n",
              "2021-11-18  184.802994   165.228455\n",
              "2021-11-19  183.828506   166.799896\n",
              "2021-11-22  178.628494   167.418655\n",
              "...                ...          ...\n",
              "2024-05-01  179.000000   164.860153\n",
              "2024-05-02  184.720001   164.698776\n",
              "2024-05-03  186.210007   166.513672\n",
              "2024-05-06  188.699997   168.175980\n",
              "2024-05-07  188.759995   168.916275\n",
              "\n",
              "[621 rows x 2 columns]"
            ]
          },
          "execution_count": 21,
          "metadata": {},
          "output_type": "execute_result"
        }
      ],
      "source": [
        "# Show the valid and predicted prices\n",
        "valid"
      ]
    },
    {
      "cell_type": "code",
      "execution_count": null,
      "metadata": {
        "colab": {
          "base_uri": "https://localhost:8080/"
        },
        "id": "5aKZGpmR4vD5",
        "outputId": "c3a571a2-1618-4d64-b40e-0ba179ba0797"
      },
      "outputs": [
        {
          "name": "stdout",
          "output_type": "stream",
          "text": [
            "1/1 [==============================] - 0s 58ms/step\n"
          ]
        }
      ],
      "source": [
        "# start here -------------\n",
        "# Get the quote of the company of your choice, and make predictions of a particular day\n",
        "\n",
        "\n",
        "# end here --------------\n",
        "\n",
        "\n",
        "# Get the quote\n",
        "company_quote = yfinance.download('AMZN', start='2012-01-01', end='2024-05-06', progress = False)\n",
        "# Create a new dataframe\n",
        "new_df = company_quote.filter(['Close'])\n",
        "\n",
        "# Get the last N days' closing price values and convert the dataframe to an array\n",
        "last_N_days = new_df[-num_days_look_back:].values\n",
        "# Scale the data to be values between 0 and 1\n",
        "last_N_days_scaled = scaler.transform(last_N_days)\n",
        "# Create an empty list\n",
        "X_test = []\n",
        "# Append the past N days\n",
        "X_test.append(last_N_days_scaled)\n",
        "# Convert the X_test data set to a numpy array\n",
        "X_test = np.array(X_test)\n",
        "# Reshape the data\n",
        "X_test = np.reshape(X_test, (X_test.shape[0], X_test.shape[1], 1))\n",
        "# Get the predicted scaled price\n",
        "pred_price = model.predict(X_test)\n",
        "# undo the scaling\n",
        "pred_price = scaler.inverse_transform(pred_price)"
      ]
    },
    {
      "cell_type": "code",
      "execution_count": null,
      "metadata": {
        "colab": {
          "base_uri": "https://localhost:8080/"
        },
        "id": "ppq5dawv5IXd",
        "outputId": "f1f09f04-ee9f-408c-9044-a7115d43d9fd"
      },
      "outputs": [
        {
          "name": "stdout",
          "output_type": "stream",
          "text": [
            "The predicted price for a chosen date is: $168.18\n",
            "The actualy price for a chosen date is: $188.76\n"
          ]
        }
      ],
      "source": [
        "print(\"The predicted price for a chosen date is: $\", format(pred_price[0][0], '.2f'), sep=\"\")\n",
        "\n",
        "company_quote2 = yfinance.download('AMZN', start='2024-05-07', end='2024-05-08', progress = False)\n",
        "print(\"The actualy price for a chosen date is: $\", format(company_quote2['Close'].values[0], '.2f'), sep=\"\")"
      ]
    },
    {
      "cell_type": "code",
      "execution_count": null,
      "metadata": {
        "id": "XEVqxpoB6M7f"
      },
      "outputs": [],
      "source": []
    }
  ],
  "metadata": {
    "colab": {
      "provenance": []
    },
    "kernelspec": {
      "display_name": "Python 3",
      "name": "python3"
    },
    "language_info": {
      "name": "python"
    }
  },
  "nbformat": 4,
  "nbformat_minor": 0
}